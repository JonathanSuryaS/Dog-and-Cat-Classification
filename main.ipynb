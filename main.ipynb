{
 "cells": [
  {
   "cell_type": "markdown",
   "metadata": {},
   "source": [
    "# Importing Libraries"
   ]
  },
  {
   "cell_type": "code",
   "execution_count": 1,
   "metadata": {},
   "outputs": [
    {
     "name": "stdout",
     "output_type": "stream",
     "text": [
      "WARNING:tensorflow:From c:\\Users\\user\\AppData\\Local\\Programs\\Python\\Python39\\lib\\site-packages\\keras\\src\\losses.py:2976: The name tf.losses.sparse_softmax_cross_entropy is deprecated. Please use tf.compat.v1.losses.sparse_softmax_cross_entropy instead.\n",
      "\n"
     ]
    },
    {
     "data": {
      "text/plain": [
       "'2.15.0'"
      ]
     },
     "execution_count": 1,
     "metadata": {},
     "output_type": "execute_result"
    }
   ],
   "source": [
    "import tensorflow as tf\n",
    "from keras.preprocessing.image import ImageDataGenerator\n",
    "#We want to import specific class ImageDataGenerator\n",
    "tf.__version__ #-> Check the tensorflow version"
   ]
  },
  {
   "cell_type": "markdown",
   "metadata": {},
   "source": [
    "# Data PreProcessing"
   ]
  },
  {
   "cell_type": "code",
   "execution_count": 2,
   "metadata": {},
   "outputs": [],
   "source": [
    "#PreProcessing Images\n",
    "#apply transformation on the training set\n",
    "#To avoid overfitting, else when we training CNN on the training set,\n",
    "#we will get huge difference between Training and Test test\n",
    "\n",
    "#Apply Geometric transformation"
   ]
  },
  {
   "cell_type": "markdown",
   "metadata": {},
   "source": [
    "Preprocessing Training set"
   ]
  },
  {
   "cell_type": "code",
   "execution_count": 3,
   "metadata": {},
   "outputs": [
    {
     "name": "stdout",
     "output_type": "stream",
     "text": [
      "Found 8000 images belonging to 2 classes.\n"
     ]
    }
   ],
   "source": [
    "train_datagen = ImageDataGenerator(rescale = 1./255, #Feature Scaling each pixel\n",
    "                                   shear_range = 0.2,#->Transformation\n",
    "                                   zoom_range = 0.2,#->Transformation\n",
    "                                   horizontal_flip = True)#Transformation\n",
    "                                   #Performing image augmentation to avoid overfitting\n",
    "training_set = train_datagen.flow_from_directory('../Dataset/training_set',\n",
    "                                                 target_size = (64, 64), #Final size of image\n",
    "                                                 #When they fed into CNN\n",
    "                                                 batch_size = 32, \n",
    "                                                 #How many images in each batch\n",
    "                                                 class_mode = 'binary')\n",
    "                                                 #Binary or Categorical as value"
   ]
  },
  {
   "cell_type": "markdown",
   "metadata": {},
   "source": [
    "Preprocessing Test Data"
   ]
  },
  {
   "cell_type": "code",
   "execution_count": 4,
   "metadata": {},
   "outputs": [
    {
     "name": "stdout",
     "output_type": "stream",
     "text": [
      "Found 2000 images belonging to 2 classes.\n"
     ]
    }
   ],
   "source": [
    "test_datagen = ImageDataGenerator(rescale = 1./255)\n",
    "test_set = test_datagen.flow_from_directory('../Dataset/test_set',\n",
    "                                            target_size = (64, 64),\n",
    "                                            #Target size must be in the same format as training\n",
    "                                            batch_size = 32,\n",
    "                                            class_mode = 'binary')"
   ]
  },
  {
   "cell_type": "markdown",
   "metadata": {},
   "source": [
    "# Building the CNN"
   ]
  },
  {
   "cell_type": "markdown",
   "metadata": {},
   "source": [
    "### Initialising the CNN"
   ]
  },
  {
   "cell_type": "code",
   "execution_count": 5,
   "metadata": {},
   "outputs": [
    {
     "name": "stdout",
     "output_type": "stream",
     "text": [
      "WARNING:tensorflow:From c:\\Users\\user\\AppData\\Local\\Programs\\Python\\Python39\\lib\\site-packages\\keras\\src\\backend.py:873: The name tf.get_default_graph is deprecated. Please use tf.compat.v1.get_default_graph instead.\n",
      "\n"
     ]
    }
   ],
   "source": [
    "cnn = tf.keras.models.Sequential()"
   ]
  },
  {
   "cell_type": "markdown",
   "metadata": {},
   "source": [
    "Convolution"
   ]
  },
  {
   "cell_type": "code",
   "execution_count": 6,
   "metadata": {},
   "outputs": [],
   "source": [
    "cnn.add(tf.keras.layers.Conv2D(filters=32, kernel_size=3, activation='relu', input_shape=[64, 64, 3]))\n",
    "#Conv2D:\n",
    "#Filters: Number of feature detector you want to apply\n",
    "#Kernel Size (Number or row and column in squarred array), 3 -> 3 x 3\n",
    "#Input shape of your inputs\n",
    "#RGB -> 3Dimension (R,G,B)\n",
    "#Because we resize to 64, 64, the input is 64, 64, 3"
   ]
  },
  {
   "cell_type": "markdown",
   "metadata": {},
   "source": [
    "Pooling (Max Pooling)"
   ]
  },
  {
   "cell_type": "code",
   "execution_count": 7,
   "metadata": {},
   "outputs": [
    {
     "name": "stdout",
     "output_type": "stream",
     "text": [
      "WARNING:tensorflow:From c:\\Users\\user\\AppData\\Local\\Programs\\Python\\Python39\\lib\\site-packages\\keras\\src\\layers\\pooling\\max_pooling2d.py:161: The name tf.nn.max_pool is deprecated. Please use tf.nn.max_pool2d instead.\n",
      "\n"
     ]
    }
   ],
   "source": [
    "cnn.add(tf.keras.layers.MaxPool2D(2, strides=2))\n",
    "#Pool_size: The distance used for pooling"
   ]
  },
  {
   "cell_type": "markdown",
   "metadata": {},
   "source": [
    "### Adding Second Convusional Layer"
   ]
  },
  {
   "cell_type": "code",
   "execution_count": 8,
   "metadata": {},
   "outputs": [],
   "source": [
    "cnn.add(tf.keras.layers.Conv2D(filters=32, kernel_size=3, activation='relu'))\n",
    "cnn.add(tf.keras.layers.MaxPool2D(2, strides=2))\n",
    "#Input size is only used at first layer to automatically connect the first layer to\n",
    "#input layer"
   ]
  },
  {
   "cell_type": "markdown",
   "metadata": {},
   "source": [
    "### FLattening"
   ]
  },
  {
   "cell_type": "code",
   "execution_count": 9,
   "metadata": {},
   "outputs": [],
   "source": [
    "#flattening the result of convolution and pooling into 1D Vector\n",
    "cnn.add(tf.keras.layers.Flatten())"
   ]
  },
  {
   "cell_type": "markdown",
   "metadata": {},
   "source": [
    "### Full Connection"
   ]
  },
  {
   "cell_type": "code",
   "execution_count": 10,
   "metadata": {},
   "outputs": [],
   "source": [
    "cnn.add(tf.keras.layers.Dense(units=128, activation='relu'))\n",
    "#Units: Number of hidden neuron you want to have in this fully connected Neural Network\n",
    "#Activation function : Relu (Rectifier activation fucntion)\n",
    "#As long as not the output, use ReLu"
   ]
  },
  {
   "cell_type": "markdown",
   "metadata": {},
   "source": [
    "### Output Layer"
   ]
  },
  {
   "cell_type": "code",
   "execution_count": 11,
   "metadata": {},
   "outputs": [],
   "source": [
    "cnn.add(tf.keras.layers.Dense(units=1, activation='sigmoid'))\n",
    "#Units = 1, because we need to only classify 2 things dog or cat\n",
    "#Activation function: Sigmoid"
   ]
  },
  {
   "cell_type": "markdown",
   "metadata": {},
   "source": [
    "# Training the CNN"
   ]
  },
  {
   "cell_type": "markdown",
   "metadata": {},
   "source": [
    "#### Compiling The CNN"
   ]
  },
  {
   "cell_type": "code",
   "execution_count": 12,
   "metadata": {},
   "outputs": [
    {
     "name": "stdout",
     "output_type": "stream",
     "text": [
      "WARNING:tensorflow:From c:\\Users\\user\\AppData\\Local\\Programs\\Python\\Python39\\lib\\site-packages\\keras\\src\\optimizers\\__init__.py:309: The name tf.train.Optimizer is deprecated. Please use tf.compat.v1.train.Optimizer instead.\n",
      "\n"
     ]
    }
   ],
   "source": [
    "cnn.compile(optimizer='adam', loss='binary_crossentropy', metrics= ['accuracy'])"
   ]
  },
  {
   "cell_type": "markdown",
   "metadata": {},
   "source": [
    "#### Training the CNN and Evaluate"
   ]
  },
  {
   "cell_type": "code",
   "execution_count": 13,
   "metadata": {},
   "outputs": [
    {
     "name": "stdout",
     "output_type": "stream",
     "text": [
      "Epoch 1/25\n",
      "WARNING:tensorflow:From c:\\Users\\user\\AppData\\Local\\Programs\\Python\\Python39\\lib\\site-packages\\keras\\src\\utils\\tf_utils.py:492: The name tf.ragged.RaggedTensorValue is deprecated. Please use tf.compat.v1.ragged.RaggedTensorValue instead.\n",
      "\n",
      "WARNING:tensorflow:From c:\\Users\\user\\AppData\\Local\\Programs\\Python\\Python39\\lib\\site-packages\\keras\\src\\engine\\base_layer_utils.py:384: The name tf.executing_eagerly_outside_functions is deprecated. Please use tf.compat.v1.executing_eagerly_outside_functions instead.\n",
      "\n",
      "250/250 [==============================] - 22s 87ms/step - loss: 0.6823 - accuracy: 0.5515 - val_loss: 0.6234 - val_accuracy: 0.6615\n",
      "Epoch 2/25\n",
      "250/250 [==============================] - 17s 68ms/step - loss: 0.6212 - accuracy: 0.6511 - val_loss: 0.5777 - val_accuracy: 0.7090\n",
      "Epoch 3/25\n",
      "250/250 [==============================] - 17s 66ms/step - loss: 0.5757 - accuracy: 0.6980 - val_loss: 0.5463 - val_accuracy: 0.7280\n",
      "Epoch 4/25\n",
      "250/250 [==============================] - 16s 64ms/step - loss: 0.5433 - accuracy: 0.7268 - val_loss: 0.5224 - val_accuracy: 0.7455\n",
      "Epoch 5/25\n",
      "250/250 [==============================] - 17s 66ms/step - loss: 0.5155 - accuracy: 0.7412 - val_loss: 0.5039 - val_accuracy: 0.7625\n",
      "Epoch 6/25\n",
      "250/250 [==============================] - 16s 63ms/step - loss: 0.4999 - accuracy: 0.7527 - val_loss: 0.5347 - val_accuracy: 0.7270\n",
      "Epoch 7/25\n",
      "250/250 [==============================] - 16s 65ms/step - loss: 0.4866 - accuracy: 0.7621 - val_loss: 0.5145 - val_accuracy: 0.7525\n",
      "Epoch 8/25\n",
      "250/250 [==============================] - 17s 69ms/step - loss: 0.4555 - accuracy: 0.7836 - val_loss: 0.5347 - val_accuracy: 0.7605\n",
      "Epoch 9/25\n",
      "250/250 [==============================] - 17s 68ms/step - loss: 0.4395 - accuracy: 0.7920 - val_loss: 0.4727 - val_accuracy: 0.7805\n",
      "Epoch 10/25\n",
      "250/250 [==============================] - 16s 64ms/step - loss: 0.4336 - accuracy: 0.8001 - val_loss: 0.4787 - val_accuracy: 0.7765\n",
      "Epoch 11/25\n",
      "250/250 [==============================] - 16s 63ms/step - loss: 0.4175 - accuracy: 0.8035 - val_loss: 0.4957 - val_accuracy: 0.7755\n",
      "Epoch 12/25\n",
      "250/250 [==============================] - 16s 63ms/step - loss: 0.3967 - accuracy: 0.8210 - val_loss: 0.4938 - val_accuracy: 0.7630\n",
      "Epoch 13/25\n",
      "250/250 [==============================] - 16s 63ms/step - loss: 0.3900 - accuracy: 0.8223 - val_loss: 0.4521 - val_accuracy: 0.7835\n",
      "Epoch 14/25\n",
      "250/250 [==============================] - 16s 64ms/step - loss: 0.3716 - accuracy: 0.8305 - val_loss: 0.5329 - val_accuracy: 0.7620\n",
      "Epoch 15/25\n",
      "250/250 [==============================] - 16s 63ms/step - loss: 0.3620 - accuracy: 0.8365 - val_loss: 0.4799 - val_accuracy: 0.7830\n",
      "Epoch 16/25\n",
      "250/250 [==============================] - 16s 63ms/step - loss: 0.3473 - accuracy: 0.8489 - val_loss: 0.4568 - val_accuracy: 0.7990\n",
      "Epoch 17/25\n",
      "250/250 [==============================] - 16s 63ms/step - loss: 0.3272 - accuracy: 0.8510 - val_loss: 0.5328 - val_accuracy: 0.7800\n",
      "Epoch 18/25\n",
      "250/250 [==============================] - 16s 63ms/step - loss: 0.3101 - accuracy: 0.8670 - val_loss: 0.4714 - val_accuracy: 0.7875\n",
      "Epoch 19/25\n",
      "250/250 [==============================] - 16s 63ms/step - loss: 0.3054 - accuracy: 0.8673 - val_loss: 0.4878 - val_accuracy: 0.7975\n",
      "Epoch 20/25\n",
      "250/250 [==============================] - 16s 63ms/step - loss: 0.2945 - accuracy: 0.8723 - val_loss: 0.5312 - val_accuracy: 0.7780\n",
      "Epoch 21/25\n",
      "250/250 [==============================] - 16s 63ms/step - loss: 0.2865 - accuracy: 0.8766 - val_loss: 0.4892 - val_accuracy: 0.7930\n",
      "Epoch 22/25\n",
      "250/250 [==============================] - 16s 64ms/step - loss: 0.2688 - accuracy: 0.8831 - val_loss: 0.5145 - val_accuracy: 0.7855\n",
      "Epoch 23/25\n",
      "250/250 [==============================] - 16s 63ms/step - loss: 0.2577 - accuracy: 0.8934 - val_loss: 0.5108 - val_accuracy: 0.8005\n",
      "Epoch 24/25\n",
      "250/250 [==============================] - 16s 63ms/step - loss: 0.2466 - accuracy: 0.8967 - val_loss: 0.4878 - val_accuracy: 0.8005\n",
      "Epoch 25/25\n",
      "250/250 [==============================] - 16s 63ms/step - loss: 0.2392 - accuracy: 0.8985 - val_loss: 0.6000 - val_accuracy: 0.7675\n"
     ]
    },
    {
     "data": {
      "text/plain": [
       "<keras.src.callbacks.History at 0x1e4b1806640>"
      ]
     },
     "execution_count": 13,
     "metadata": {},
     "output_type": "execute_result"
    }
   ],
   "source": [
    "cnn.fit(x = training_set, validation_data= test_set, epochs=25)\n",
    "#Input\n",
    "#Training Dataset as X\n",
    "#Validation data \n",
    "#Test_set no transformation applied, only feature scaling"
   ]
  },
  {
   "cell_type": "markdown",
   "metadata": {},
   "source": [
    "# Making Single Prediction"
   ]
  },
  {
   "cell_type": "code",
   "execution_count": 14,
   "metadata": {},
   "outputs": [],
   "source": [
    "import numpy as np\n",
    "from keras.preprocessing import image\n",
    "test_image1 = image.load_img('../Dataset/single_prediction/cat_or_dog1.jpg', target_size=(64,64))\n",
    "test_image2 = image.load_img('../Dataset/single_prediction/cat_or_dog2.jpg', target_size=(64,64))\n",
    "#The size must be the same as we declare before"
   ]
  },
  {
   "cell_type": "markdown",
   "metadata": {},
   "source": [
    "Cat"
   ]
  },
  {
   "cell_type": "code",
   "execution_count": 15,
   "metadata": {},
   "outputs": [
    {
     "data": {
      "image/jpeg": "[encoded data removed]",
      "image/png": "[encoded data removed]",
      "text/plain": [
       "<PIL.Image.Image image mode=RGB size=64x64>"
      ]
     },
     "execution_count": 15,
     "metadata": {},
     "output_type": "execute_result"
    }
   ],
   "source": [
    "test_image1"
   ]
  },
  {
   "cell_type": "markdown",
   "metadata": {},
   "source": [
    "Dog"
   ]
  },
  {
   "cell_type": "code",
   "execution_count": 16,
   "metadata": {},
   "outputs": [
    {
     "data": {
      "image/jpeg": "[encoded data removed]",
      "image/png": "[encoded data removed]",
      "text/plain": [
       "<PIL.Image.Image image mode=RGB size=64x64>"
      ]
     },
     "execution_count": 16,
     "metadata": {},
     "output_type": "execute_result"
    }
   ],
   "source": [
    "test_image2"
   ]
  },
  {
   "cell_type": "code",
   "execution_count": 17,
   "metadata": {},
   "outputs": [],
   "source": [
    "#Convert the test image into numpy array\n",
    "test_image1 = image.img_to_array(test_image1)#Format expected by the predict method\n",
    "\n",
    "#Because in our preprocessing process, we created batches of images,\n",
    "#Meaning our model is trained with batches of images\n",
    "#Therefore we have extra dimension corresponding to the images\n",
    "\n",
    "#Even if we deploy our model in single image, the single image needs has to be a batch, \n",
    "#So the CNN can recognize the batch\n",
    "test_image1 = np.expand_dims(test_image1, axis=0)\n",
    "\n",
    "#Image 2\n",
    "test_image2 = image.img_to_array(test_image2)\n",
    "test_image2 = np.expand_dims(test_image2, axis=0)"
   ]
  },
  {
   "cell_type": "markdown",
   "metadata": {},
   "source": [
    "Predcting"
   ]
  },
  {
   "cell_type": "code",
   "execution_count": 18,
   "metadata": {},
   "outputs": [
    {
     "data": {
      "text/plain": [
       "{'cats': 0, 'dogs': 1}"
      ]
     },
     "execution_count": 18,
     "metadata": {},
     "output_type": "execute_result"
    }
   ],
   "source": [
    "#We need to see the Class or binary of the corresponding class\n",
    "training_set.class_indices"
   ]
  },
  {
   "cell_type": "code",
   "execution_count": 19,
   "metadata": {},
   "outputs": [
    {
     "name": "stdout",
     "output_type": "stream",
     "text": [
      "1/1 [==============================] - 0s 76ms/step\n",
      "dog\n"
     ]
    }
   ],
   "source": [
    "result = cnn.predict(test_image1)\n",
    "if result[0][0] == 0:\n",
    "    print(\"cat\")\n",
    "else: print(\"dog\")"
   ]
  },
  {
   "cell_type": "markdown",
   "metadata": {},
   "source": [
    "Test"
   ]
  },
  {
   "cell_type": "code",
   "execution_count": 20,
   "metadata": {},
   "outputs": [
    {
     "data": {
      "image/jpeg": "[encoded data removed]",
      "image/png": "[encoded data removed]",
      "text/plain": [
       "<PIL.Image.Image image mode=RGB size=64x64>"
      ]
     },
     "execution_count": 20,
     "metadata": {},
     "output_type": "execute_result"
    }
   ],
   "source": [
    "mort = image.load_img('../Dataset/single_prediction/mort.png', target_size=(64,64))\n",
    "mort"
   ]
  },
  {
   "cell_type": "code",
   "execution_count": 21,
   "metadata": {},
   "outputs": [],
   "source": [
    "mort = image.img_to_array(mort)\n",
    "mort = np.expand_dims(mort, axis=0)"
   ]
  },
  {
   "cell_type": "code",
   "execution_count": 22,
   "metadata": {},
   "outputs": [
    {
     "name": "stdout",
     "output_type": "stream",
     "text": [
      "1/1 [==============================] - 0s 16ms/step\n",
      "dog\n"
     ]
    }
   ],
   "source": [
    "result = cnn.predict(mort)\n",
    "if result[0][0] == 0:\n",
    "    print(\"cat\")\n",
    "else: print(\"dog\")"
   ]
  },
  {
   "cell_type": "markdown",
   "metadata": {},
   "source": [
    "Saving the Model"
   ]
  },
  {
   "cell_type": "code",
   "execution_count": 23,
   "metadata": {},
   "outputs": [
    {
     "name": "stderr",
     "output_type": "stream",
     "text": [
      "c:\\Users\\user\\AppData\\Local\\Programs\\Python\\Python39\\lib\\site-packages\\keras\\src\\engine\\training.py:3103: UserWarning: You are saving your model as an HDF5 file via `model.save()`. This file format is considered legacy. We recommend using instead the native Keras format, e.g. `model.save('my_model.keras')`.\n",
      "  saving_api.save_model(\n"
     ]
    }
   ],
   "source": [
    "cnn.save('modelcnn.h5')"
   ]
  },
  {
   "cell_type": "code",
   "execution_count": 24,
   "metadata": {},
   "outputs": [],
   "source": [
    "import pickle\n",
    "\n",
    "with open('model.pkl', 'wb') as file:\n",
    "    pickle.dump(cnn, file)"
   ]
  }
 ],
 "metadata": {
  "kernelspec": {
   "display_name": "Python 3",
   "language": "python",
   "name": "python3"
  },
  "language_info": {
   "codemirror_mode": {
    "name": "ipython",
    "version": 3
   },
   "file_extension": ".py",
   "mimetype": "text/x-python",
   "name": "python",
   "nbconvert_exporter": "python",
   "pygments_lexer": "ipython3",
   "version": "3.9.0"
  }
 },
 "nbformat": 4,
 "nbformat_minor": 2
}
